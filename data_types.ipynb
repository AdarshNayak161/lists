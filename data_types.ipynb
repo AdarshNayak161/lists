{
  "nbformat": 4,
  "nbformat_minor": 0,
  "metadata": {
    "colab": {
      "provenance": []
    },
    "kernelspec": {
      "name": "python3",
      "display_name": "Python 3"
    },
    "language_info": {
      "name": "python"
    }
  },
  "cells": [
    {
      "cell_type": "code",
      "execution_count": 1,
      "metadata": {
        "colab": {
          "base_uri": "https://localhost:8080/"
        },
        "id": "rNG6nKvlyd8r",
        "outputId": "b2d3ea62-986e-488d-b033-9fc748613ea0"
      },
      "outputs": [
        {
          "output_type": "execute_result",
          "data": {
            "text/plain": [
              "int"
            ]
          },
          "metadata": {},
          "execution_count": 1
        }
      ],
      "source": [
        "### Data types\n",
        "x=10\n",
        "type(x)"
      ]
    },
    {
      "cell_type": "code",
      "source": [
        "x=10.6\n",
        "type(x)"
      ],
      "metadata": {
        "colab": {
          "base_uri": "https://localhost:8080/"
        },
        "id": "bRY-0xdzy10U",
        "outputId": "f1ade5b8-5592-41b1-811e-422ccacb491d"
      },
      "execution_count": 2,
      "outputs": [
        {
          "output_type": "execute_result",
          "data": {
            "text/plain": [
              "float"
            ]
          },
          "metadata": {},
          "execution_count": 2
        }
      ]
    },
    {
      "cell_type": "code",
      "source": [
        "x=\"hi\"\n",
        "type(x)"
      ],
      "metadata": {
        "colab": {
          "base_uri": "https://localhost:8080/"
        },
        "id": "Xs-cywVDzEDy",
        "outputId": "2dfaa701-3fe3-4856-d211-0b0cc56c497c"
      },
      "execution_count": 4,
      "outputs": [
        {
          "output_type": "execute_result",
          "data": {
            "text/plain": [
              "str"
            ]
          },
          "metadata": {},
          "execution_count": 4
        }
      ]
    },
    {
      "cell_type": "code",
      "source": [
        "y=True\n",
        "type(y)"
      ],
      "metadata": {
        "colab": {
          "base_uri": "https://localhost:8080/"
        },
        "id": "12cZAjqdzLEP",
        "outputId": "e3d12f5d-9e21-4c6a-9473-acb46db2c730"
      },
      "execution_count": 6,
      "outputs": [
        {
          "output_type": "execute_result",
          "data": {
            "text/plain": [
              "bool"
            ]
          },
          "metadata": {},
          "execution_count": 6
        }
      ]
    },
    {
      "cell_type": "code",
      "source": [
        "\n",
        "#### Data types\n",
        "int-> number without decimal \n",
        "float-> number with decimal point\n",
        "string-> text based\n",
        "Bool-> True, False\n"
      ],
      "metadata": {
        "id": "MXc414FqzcRb"
      },
      "execution_count": null,
      "outputs": []
    }
  ]
}